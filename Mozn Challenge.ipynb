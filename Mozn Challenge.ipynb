{
 "cells": [
  {
   "cell_type": "code",
   "execution_count": 12,
   "id": "196fec78",
   "metadata": {},
   "outputs": [
    {
     "name": "stdout",
     "output_type": "stream",
     "text": [
      "Collecting faker\n",
      "  Downloading Faker-13.2.0-py3-none-any.whl (1.5 MB)\n",
      "Requirement already satisfied: python-dateutil>=2.4 in c:\\users\\amg11\\anaconda3\\lib\\site-packages (from faker) (2.8.2)\n",
      "Requirement already satisfied: six>=1.5 in c:\\users\\amg11\\anaconda3\\lib\\site-packages (from python-dateutil>=2.4->faker) (1.16.0)\n",
      "Installing collected packages: faker\n",
      "Successfully installed faker-13.2.0\n"
     ]
    }
   ],
   "source": [
    "#@title Run this cell to generate the data\n",
    "! pip install faker\n",
    "import numpy as np\n",
    "import pandas as pd\n",
    "import uuid\n",
    "import datetime\n",
    "\n",
    "from faker.providers.person.en import Provider\n",
    "from faker import Faker\n",
    "\n",
    "from faker import Faker\n",
    "fake = Faker()\n",
    "Faker.seed(0)\n",
    "\n",
    "n_employees = 50\n",
    "first_names = pd.Series(list(set(Provider.first_names))).sample(n_employees)\n",
    "df_employees = pd.DataFrame(columns=[\"id\", \"name\", \"salary\"])\n",
    "df_employees[\"name\"] = (first_names).sample(frac=1).values\n",
    "mu = 28_000\n",
    "minimum = 16_000\n",
    "df_employees[\"salary\"] = (np.random.pareto(a=6, size=(50,1)) * mu) + minimum\n",
    "df_employees[\"salary\"] = (df_employees[\"salary\"]/100).astype(int) * 100\n",
    "df_employees[\"id\"] = pd.Series([str(uuid.uuid4()).split('-')[1] for x in range(n_employees)])\n",
    "\n",
    "def create_random_project(number_of_employees, duration, year, is_ongoing=False):\n",
    "    df_projects = pd.DataFrame(index=range(number_of_employees), columns=[\"employee_id\", \"project_id\", \"start_date\", \"end_date\"])\n",
    "    \n",
    "    employees = df_employees.id.sample(number_of_employees)\n",
    "    \n",
    "    start_date = datetime.date(year=year, month=1, day=1)\n",
    "    end_date = datetime.date(year=year+1, month=1, day=1)\n",
    "    project_start_date = fake.date_between(start_date=start_date, end_date=end_date)\n",
    "    project_end_date = project_start_date + datetime.timedelta(days=duration)\n",
    "    \n",
    "    if is_ongoing:\n",
    "        project_end_date = None\n",
    "        \n",
    "    project_id = str(uuid.uuid4()).split('-')[4]\n",
    "    \n",
    "    df_projects[\"employee_id\"] = employees.values\n",
    "    df_projects[\"project_id\"] = project_id\n",
    "    df_projects[\"start_date\"] = project_start_date\n",
    "    df_projects[\"end_date\"] = project_end_date\n",
    "    \n",
    "    \n",
    "    return df_projects\n",
    "\n",
    "n_projects = 150\n",
    "projects = []\n",
    "for proj in range(n_projects):\n",
    "    number_of_employees = np.random.choice([1,2,3,4], replace=True, p=[0.25, 0.5, 0.15, 0.1], size=1)\n",
    "    duration = (np.random.pareto(a=5, size=1) * 30*4) + 14\n",
    "    year = np.random.choice([2017, 2018, 2019, 2020])\n",
    "    is_ongoing = bool(np.random.binomial(n=1, p=0.4)) if year >= 2019 else False\n",
    "    new_project = (create_random_project(number_of_employees=number_of_employees[0], duration=duration[0], year=year, is_ongoing=is_ongoing).values)\n",
    "    \n",
    "    projects.append(new_project)\n",
    "    \n",
    "projects_data = np.vstack(projects)\n",
    "df_projects = (\n",
    "    pd.DataFrame(projects_data, columns=[\"employee_id\", \"project_id\", \"start_date\", \"end_date\"])\n",
    "    .sort_values([\"project_id\", \"start_date\", \"end_date\"])\n",
    "    .reset_index(drop=True)\n",
    ")"
   ]
  },
  {
   "cell_type": "code",
   "execution_count": 13,
   "id": "1a81dfc4",
   "metadata": {},
   "outputs": [
    {
     "data": {
      "text/html": [
       "<div>\n",
       "<style scoped>\n",
       "    .dataframe tbody tr th:only-of-type {\n",
       "        vertical-align: middle;\n",
       "    }\n",
       "\n",
       "    .dataframe tbody tr th {\n",
       "        vertical-align: top;\n",
       "    }\n",
       "\n",
       "    .dataframe thead th {\n",
       "        text-align: right;\n",
       "    }\n",
       "</style>\n",
       "<table border=\"1\" class=\"dataframe\">\n",
       "  <thead>\n",
       "    <tr style=\"text-align: right;\">\n",
       "      <th></th>\n",
       "      <th>id</th>\n",
       "      <th>name</th>\n",
       "      <th>project_id</th>\n",
       "      <th>salary</th>\n",
       "    </tr>\n",
       "  </thead>\n",
       "  <tbody>\n",
       "    <tr>\n",
       "      <th>38</th>\n",
       "      <td>cc9b</td>\n",
       "      <td>Sheilah</td>\n",
       "      <td>10</td>\n",
       "      <td>16100</td>\n",
       "    </tr>\n",
       "    <tr>\n",
       "      <th>32</th>\n",
       "      <td>a287</td>\n",
       "      <td>Pauletta</td>\n",
       "      <td>11</td>\n",
       "      <td>16400</td>\n",
       "    </tr>\n",
       "    <tr>\n",
       "      <th>42</th>\n",
       "      <td>da12</td>\n",
       "      <td>Diego</td>\n",
       "      <td>10</td>\n",
       "      <td>17200</td>\n",
       "    </tr>\n",
       "  </tbody>\n",
       "</table>\n",
       "</div>"
      ],
      "text/plain": [
       "      id      name  project_id  salary\n",
       "38  cc9b   Sheilah          10   16100\n",
       "32  a287  Pauletta          11   16400\n",
       "42  da12     Diego          10   17200"
      ]
     },
     "execution_count": 13,
     "metadata": {},
     "output_type": "execute_result"
    }
   ],
   "source": [
    "df_m = df_employees.merge(df_projects, left_on='id', right_on='employee_id')\n",
    "grouped = df_m.groupby(['id','name'],as_index=False).agg({'project_id':'count','salary':'min'})\n",
    "grouped[grouped['project_id'] >=10].sort_values('salary',ascending=True).nsmallest(3,'salary')"
   ]
  },
  {
   "cell_type": "code",
   "execution_count": null,
   "id": "5cf0aee3",
   "metadata": {},
   "outputs": [],
   "source": []
  }
 ],
 "metadata": {
  "kernelspec": {
   "display_name": "Python 3 (ipykernel)",
   "language": "python",
   "name": "python3"
  },
  "language_info": {
   "codemirror_mode": {
    "name": "ipython",
    "version": 3
   },
   "file_extension": ".py",
   "mimetype": "text/x-python",
   "name": "python",
   "nbconvert_exporter": "python",
   "pygments_lexer": "ipython3",
   "version": "3.8.12"
  }
 },
 "nbformat": 4,
 "nbformat_minor": 5
}
